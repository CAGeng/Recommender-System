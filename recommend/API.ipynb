{
 "metadata": {
  "language_info": {
   "codemirror_mode": {
    "name": "ipython",
    "version": 3
   },
   "file_extension": ".py",
   "mimetype": "text/x-python",
   "name": "python",
   "nbconvert_exporter": "python",
   "pygments_lexer": "ipython3",
   "version": "3.8.3"
  },
  "orig_nbformat": 2,
  "kernelspec": {
   "name": "python383jvsc74a57bd0e3359071a95bf4a6bcef1839f0fbd873ff7c132cbd9bd9ac6cf4383c87abe232",
   "display_name": "Python 3.8.3 64-bit ('base': conda)"
  }
 },
 "nbformat": 4,
 "nbformat_minor": 2,
 "cells": [
  {
   "cell_type": "code",
   "execution_count": 1,
   "metadata": {},
   "outputs": [],
   "source": [
    "from pymysql import *\n",
    "import pymysql\n",
    "import pandas as pd\n",
    "\n",
    "# 连接参数\n",
    "host = 'localhost'\n",
    "port = 3306\n",
    "user = 'root'\n",
    "password = 'sft080090'\n",
    "database = 'movie2'\n",
    "charset = 'utf8'"
   ]
  },
  {
   "cell_type": "code",
   "execution_count": 2,
   "metadata": {},
   "outputs": [],
   "source": [
    "from database import *"
   ]
  },
  {
   "cell_type": "code",
   "execution_count": null,
   "metadata": {},
   "outputs": [],
   "source": [
    "get_avg_rating(58)"
   ]
  },
  {
   "cell_type": "code",
   "execution_count": 4,
   "metadata": {},
   "outputs": [
    {
     "output_type": "execute_result",
     "data": {
      "text/plain": [
       "   id                                       title  \\\n",
       "0  58  Pirates of the Caribbean: Dead Man's Chest   \n",
       "\n",
       "                                                cast                     crew  \\\n",
       "0  ['Johnny Depp', 'Orlando Bloom', 'Keira Knight...  Director:Gore Verbinski   \n",
       "\n",
       "                               genres                                keywords  \\\n",
       "0  ['Adventure', 'Fantasy', 'Action']  ['witch', 'fortune teller', 'bondage']   \n",
       "\n",
       "   vote_count  vote_average  \n",
       "0        5246           7.0  "
      ],
      "text/html": "<div>\n<style scoped>\n    .dataframe tbody tr th:only-of-type {\n        vertical-align: middle;\n    }\n\n    .dataframe tbody tr th {\n        vertical-align: top;\n    }\n\n    .dataframe thead th {\n        text-align: right;\n    }\n</style>\n<table border=\"1\" class=\"dataframe\">\n  <thead>\n    <tr style=\"text-align: right;\">\n      <th></th>\n      <th>id</th>\n      <th>title</th>\n      <th>cast</th>\n      <th>crew</th>\n      <th>genres</th>\n      <th>keywords</th>\n      <th>vote_count</th>\n      <th>vote_average</th>\n    </tr>\n  </thead>\n  <tbody>\n    <tr>\n      <th>0</th>\n      <td>58</td>\n      <td>Pirates of the Caribbean: Dead Man's Chest</td>\n      <td>['Johnny Depp', 'Orlando Bloom', 'Keira Knight...</td>\n      <td>Director:Gore Verbinski</td>\n      <td>['Adventure', 'Fantasy', 'Action']</td>\n      <td>['witch', 'fortune teller', 'bondage']</td>\n      <td>5246</td>\n      <td>7.0</td>\n    </tr>\n  </tbody>\n</table>\n</div>"
     },
     "metadata": {},
     "execution_count": 4
    }
   ],
   "source": [
    "find_movie_id(58)"
   ]
  },
  {
   "cell_type": "code",
   "execution_count": 6,
   "metadata": {},
   "outputs": [
    {
     "output_type": "execute_result",
     "data": {
      "text/plain": [
       "       id          title                                               cast  \\\n",
       "0  315011  Shin Godzilla  ['Hiroki Hasegawa', 'Yutaka Takenouchi', 'Sato...   \n",
       "\n",
       "                    crew                            genres  \\\n",
       "0  Director:Hideaki Anno  ['Action', 'Adventure', 'Drama']   \n",
       "\n",
       "                                   keywords  vote_count  vote_average  \n",
       "0  ['monster', 'godzilla', 'giant monster']         143           6.5  "
      ],
      "text/html": "<div>\n<style scoped>\n    .dataframe tbody tr th:only-of-type {\n        vertical-align: middle;\n    }\n\n    .dataframe tbody tr th {\n        vertical-align: top;\n    }\n\n    .dataframe thead th {\n        text-align: right;\n    }\n</style>\n<table border=\"1\" class=\"dataframe\">\n  <thead>\n    <tr style=\"text-align: right;\">\n      <th></th>\n      <th>id</th>\n      <th>title</th>\n      <th>cast</th>\n      <th>crew</th>\n      <th>genres</th>\n      <th>keywords</th>\n      <th>vote_count</th>\n      <th>vote_average</th>\n    </tr>\n  </thead>\n  <tbody>\n    <tr>\n      <th>0</th>\n      <td>315011</td>\n      <td>Shin Godzilla</td>\n      <td>['Hiroki Hasegawa', 'Yutaka Takenouchi', 'Sato...</td>\n      <td>Director:Hideaki Anno</td>\n      <td>['Action', 'Adventure', 'Drama']</td>\n      <td>['monster', 'godzilla', 'giant monster']</td>\n      <td>143</td>\n      <td>6.5</td>\n    </tr>\n  </tbody>\n</table>\n</div>"
     },
     "metadata": {},
     "execution_count": 6
    }
   ],
   "source": [
    "find_movie_id(315011)"
   ]
  },
  {
   "cell_type": "code",
   "execution_count": null,
   "metadata": {},
   "outputs": [],
   "source": [
    "find_movie_title(\"Shrek Forever After\")"
   ]
  },
  {
   "cell_type": "code",
   "execution_count": null,
   "metadata": {},
   "outputs": [],
   "source": [
    "find_user('a')"
   ]
  },
  {
   "cell_type": "code",
   "execution_count": null,
   "metadata": {},
   "outputs": [],
   "source": [
    "# add_user()"
   ]
  },
  {
   "cell_type": "code",
   "execution_count": null,
   "metadata": {},
   "outputs": [],
   "source": [
    "login('a','1')"
   ]
  },
  {
   "cell_type": "code",
   "execution_count": null,
   "metadata": {},
   "outputs": [],
   "source": [
    "find_recommend(58,'c')"
   ]
  },
  {
   "cell_type": "code",
   "execution_count": null,
   "metadata": {},
   "outputs": [],
   "source": [
    "find_recommend_id(155)"
   ]
  },
  {
   "cell_type": "code",
   "execution_count": null,
   "metadata": {},
   "outputs": [],
   "source": [
    "find_recommend_name('a')"
   ]
  },
  {
   "cell_type": "code",
   "execution_count": null,
   "metadata": {},
   "outputs": [],
   "source": [
    "from recommend import *"
   ]
  },
  {
   "cell_type": "code",
   "execution_count": null,
   "metadata": {},
   "outputs": [],
   "source": [
    "get_result('f')"
   ]
  },
  {
   "cell_type": "code",
   "execution_count": null,
   "metadata": {},
   "outputs": [],
   "source": [
    "add_rec_list('sft',[559,1726,10138,19995,36668,127585,76757,99861])"
   ]
  },
  {
   "cell_type": "code",
   "execution_count": null,
   "metadata": {},
   "outputs": [],
   "source": [
    "get_rec_list('b')"
   ]
  },
  {
   "cell_type": "code",
   "execution_count": null,
   "metadata": {},
   "outputs": [],
   "source": [
    "get_browse_list('new user')"
   ]
  },
  {
   "cell_type": "code",
   "execution_count": null,
   "metadata": {},
   "outputs": [],
   "source": [
    "err = add_browse_record('sft_brother',[10138,19995,36668,68721,246655])\n",
    "print(err)"
   ]
  },
  {
   "cell_type": "code",
   "execution_count": null,
   "metadata": {},
   "outputs": [],
   "source": [
    "db = pymysql.connect(host=host, port=port, user=user, password=password, database=database, charset=charset)\n",
    "\n",
    "name_df = pd.read_sql('select name from user'.format(id), db)"
   ]
  },
  {
   "cell_type": "code",
   "execution_count": null,
   "metadata": {},
   "outputs": [],
   "source": [
    "name_df"
   ]
  },
  {
   "cell_type": "code",
   "execution_count": null,
   "metadata": {},
   "outputs": [],
   "source": [
    "name_df['name'].values.tolist()"
   ]
  },
  {
   "cell_type": "code",
   "execution_count": null,
   "metadata": {},
   "outputs": [],
   "source": [
    "get_user_colletions('a')"
   ]
  },
  {
   "cell_type": "code",
   "execution_count": 11,
   "metadata": {},
   "outputs": [
    {
     "output_type": "execute_result",
     "data": {
      "text/plain": [
       "0"
      ]
     },
     "metadata": {},
     "execution_count": 11
    }
   ],
   "source": [
    "add_rec_list('sft',[559,1726,10138,19995,36668,127585,76757,99861])"
   ]
  },
  {
   "cell_type": "code",
   "execution_count": 14,
   "metadata": {},
   "outputs": [
    {
     "output_type": "execute_result",
     "data": {
      "text/plain": [
       "0"
      ]
     },
     "metadata": {},
     "execution_count": 14
    }
   ],
   "source": [
    "add_collection('a','1f13dd8c36cbfe7862e95c69379b6fdb')"
   ]
  },
  {
   "cell_type": "code",
   "execution_count": 1,
   "metadata": {},
   "outputs": [],
   "source": [
    "from database import *"
   ]
  },
  {
   "cell_type": "code",
   "execution_count": 2,
   "metadata": {},
   "outputs": [
    {
     "output_type": "execute_result",
     "data": {
      "text/plain": [
       "[559, 1726, 10138, 19995, 36668, 127585, 76757, 99861]"
      ]
     },
     "metadata": {},
     "execution_count": 2
    }
   ],
   "source": [
    "get_movie_inlist(\"1f13dd8c36cbfe7862e95c69379b6fdb\")"
   ]
  },
  {
   "cell_type": "code",
   "execution_count": 15,
   "metadata": {},
   "outputs": [
    {
     "output_type": "execute_result",
     "data": {
      "text/plain": [
       "['sdafsfsdfsda', '1f13dd8c36cbfe7862e95c69379b6fdb']"
      ]
     },
     "metadata": {},
     "execution_count": 15
    }
   ],
   "source": [
    "get_user_colletions('a')"
   ]
  },
  {
   "cell_type": "code",
   "execution_count": null,
   "metadata": {},
   "outputs": [],
   "source": [
    "from database import *\n",
    "search_by_kind('Comedy')"
   ]
  },
  {
   "cell_type": "code",
   "execution_count": 13,
   "metadata": {},
   "outputs": [
    {
     "output_type": "execute_result",
     "data": {
      "text/plain": [
       "0"
      ]
     },
     "metadata": {},
     "execution_count": 13
    }
   ],
   "source": [
    "add_user('hyc','080090','1@1.com')\n",
    "add_administrators('hyc')"
   ]
  },
  {
   "cell_type": "code",
   "execution_count": null,
   "metadata": {},
   "outputs": [],
   "source": [
    "find_admin('hyc')"
   ]
  },
  {
   "cell_type": "code",
   "execution_count": null,
   "metadata": {},
   "outputs": [],
   "source": []
  }
 ]
}