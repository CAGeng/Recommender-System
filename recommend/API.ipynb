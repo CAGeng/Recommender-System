{
 "metadata": {
  "language_info": {
   "codemirror_mode": {
    "name": "ipython",
    "version": 3
   },
   "file_extension": ".py",
   "mimetype": "text/x-python",
   "name": "python",
   "nbconvert_exporter": "python",
   "pygments_lexer": "ipython3",
   "version": "3.8.3-final"
  },
  "orig_nbformat": 2,
  "kernelspec": {
   "name": "python3",
   "display_name": "Python 3.8.3 64-bit (conda)",
   "metadata": {
    "interpreter": {
     "hash": "e3359071a95bf4a6bcef1839f0fbd873ff7c132cbd9bd9ac6cf4383c87abe232"
    }
   }
  }
 },
 "nbformat": 4,
 "nbformat_minor": 2,
 "cells": [
  {
   "cell_type": "code",
   "execution_count": 24,
   "metadata": {},
   "outputs": [],
   "source": [
    "from pymysql import *\n",
    "import pymysql\n",
    "import pandas as pd\n",
    "\n",
    "# 连接参数\n",
    "host = 'localhost'\n",
    "port = 3306\n",
    "user = 'root'\n",
    "password = 'sft080090'\n",
    "database = 'movie2'\n",
    "charset = 'utf8'"
   ]
  },
  {
   "cell_type": "code",
   "execution_count": 25,
   "metadata": {},
   "outputs": [],
   "source": [
    "from database import *"
   ]
  },
  {
   "cell_type": "code",
   "execution_count": 26,
   "metadata": {},
   "outputs": [
    {
     "output_type": "execute_result",
     "data": {
      "text/plain": [
       "   id                                       title  \\\n",
       "0  58  Pirates of the Caribbean: Dead Man's Chest   \n",
       "\n",
       "                                                cast                     crew  \\\n",
       "0  ['Johnny Depp', 'Orlando Bloom', 'Keira Knight...  Director:Gore Verbinski   \n",
       "\n",
       "                                   genres                            keywords  \\\n",
       "0  ['witch', 'fortune teller', 'bondage']  ['Adventure', 'Fantasy', 'Action']   \n",
       "\n",
       "   vote_count  vote_average  \n",
       "0        5246           7.0  "
      ],
      "text/html": "<div>\n<style scoped>\n    .dataframe tbody tr th:only-of-type {\n        vertical-align: middle;\n    }\n\n    .dataframe tbody tr th {\n        vertical-align: top;\n    }\n\n    .dataframe thead th {\n        text-align: right;\n    }\n</style>\n<table border=\"1\" class=\"dataframe\">\n  <thead>\n    <tr style=\"text-align: right;\">\n      <th></th>\n      <th>id</th>\n      <th>title</th>\n      <th>cast</th>\n      <th>crew</th>\n      <th>genres</th>\n      <th>keywords</th>\n      <th>vote_count</th>\n      <th>vote_average</th>\n    </tr>\n  </thead>\n  <tbody>\n    <tr>\n      <th>0</th>\n      <td>58</td>\n      <td>Pirates of the Caribbean: Dead Man's Chest</td>\n      <td>['Johnny Depp', 'Orlando Bloom', 'Keira Knight...</td>\n      <td>Director:Gore Verbinski</td>\n      <td>['witch', 'fortune teller', 'bondage']</td>\n      <td>['Adventure', 'Fantasy', 'Action']</td>\n      <td>5246</td>\n      <td>7.0</td>\n    </tr>\n  </tbody>\n</table>\n</div>"
     },
     "metadata": {},
     "execution_count": 26
    }
   ],
   "source": [
    "find_movie_id(58)"
   ]
  },
  {
   "cell_type": "code",
   "execution_count": 27,
   "metadata": {},
   "outputs": [
    {
     "output_type": "execute_result",
     "data": {
      "text/plain": [
       "    id            title                                               cast  \\\n",
       "0  155  The Dark Knight  ['Christian Bale', 'Heath Ledger', 'Aaron Eckh...   \n",
       "\n",
       "                         crew  \\\n",
       "0  Director:Christopher Nolan   \n",
       "\n",
       "                                              genres  \\\n",
       "0  ['dc comics', 'crime fighter', 'secret identity']   \n",
       "\n",
       "                       keywords  vote_count  vote_average  \n",
       "0  ['Drama', 'Action', 'Crime']       12002           8.2  "
      ],
      "text/html": "<div>\n<style scoped>\n    .dataframe tbody tr th:only-of-type {\n        vertical-align: middle;\n    }\n\n    .dataframe tbody tr th {\n        vertical-align: top;\n    }\n\n    .dataframe thead th {\n        text-align: right;\n    }\n</style>\n<table border=\"1\" class=\"dataframe\">\n  <thead>\n    <tr style=\"text-align: right;\">\n      <th></th>\n      <th>id</th>\n      <th>title</th>\n      <th>cast</th>\n      <th>crew</th>\n      <th>genres</th>\n      <th>keywords</th>\n      <th>vote_count</th>\n      <th>vote_average</th>\n    </tr>\n  </thead>\n  <tbody>\n    <tr>\n      <th>0</th>\n      <td>155</td>\n      <td>The Dark Knight</td>\n      <td>['Christian Bale', 'Heath Ledger', 'Aaron Eckh...</td>\n      <td>Director:Christopher Nolan</td>\n      <td>['dc comics', 'crime fighter', 'secret identity']</td>\n      <td>['Drama', 'Action', 'Crime']</td>\n      <td>12002</td>\n      <td>8.2</td>\n    </tr>\n  </tbody>\n</table>\n</div>"
     },
     "metadata": {},
     "execution_count": 27
    }
   ],
   "source": [
    "find_movie_title(\"The Dark Knight\")"
   ]
  },
  {
   "cell_type": "code",
   "execution_count": 28,
   "metadata": {},
   "outputs": [
    {
     "output_type": "execute_result",
     "data": {
      "text/plain": [
       "('a', '1', '1@1.com', '[254,597,2268,8487]')"
      ]
     },
     "metadata": {},
     "execution_count": 28
    }
   ],
   "source": [
    "find_user('a')"
   ]
  },
  {
   "cell_type": "code",
   "execution_count": 29,
   "metadata": {},
   "outputs": [],
   "source": [
    "# add_user()"
   ]
  },
  {
   "cell_type": "code",
   "execution_count": 30,
   "metadata": {},
   "outputs": [
    {
     "output_type": "stream",
     "name": "stdout",
     "text": [
      "Successfully logged in!\n"
     ]
    },
    {
     "output_type": "execute_result",
     "data": {
      "text/plain": [
       "0"
      ]
     },
     "metadata": {},
     "execution_count": 30
    }
   ],
   "source": [
    "login('a','1')"
   ]
  },
  {
   "cell_type": "code",
   "execution_count": 31,
   "metadata": {},
   "outputs": [],
   "source": [
    "find_recommend(58,'c')"
   ]
  },
  {
   "cell_type": "code",
   "execution_count": 32,
   "metadata": {},
   "outputs": [
    {
     "output_type": "execute_result",
     "data": {
      "text/plain": [
       "   id name    rating comment\n",
       "0  58    a  4.295792        \n",
       "1  58    b  1.019152        \n",
       "2  58    d  1.048033        "
      ],
      "text/html": "<div>\n<style scoped>\n    .dataframe tbody tr th:only-of-type {\n        vertical-align: middle;\n    }\n\n    .dataframe tbody tr th {\n        vertical-align: top;\n    }\n\n    .dataframe thead th {\n        text-align: right;\n    }\n</style>\n<table border=\"1\" class=\"dataframe\">\n  <thead>\n    <tr style=\"text-align: right;\">\n      <th></th>\n      <th>id</th>\n      <th>name</th>\n      <th>rating</th>\n      <th>comment</th>\n    </tr>\n  </thead>\n  <tbody>\n    <tr>\n      <th>0</th>\n      <td>58</td>\n      <td>a</td>\n      <td>4.295792</td>\n      <td></td>\n    </tr>\n    <tr>\n      <th>1</th>\n      <td>58</td>\n      <td>b</td>\n      <td>1.019152</td>\n      <td></td>\n    </tr>\n    <tr>\n      <th>2</th>\n      <td>58</td>\n      <td>d</td>\n      <td>1.048033</td>\n      <td></td>\n    </tr>\n  </tbody>\n</table>\n</div>"
     },
     "metadata": {},
     "execution_count": 32
    }
   ],
   "source": [
    "find_recommend_id(58)"
   ]
  },
  {
   "cell_type": "code",
   "execution_count": 33,
   "metadata": {},
   "outputs": [
    {
     "output_type": "execute_result",
     "data": {
      "text/plain": [
       "        id name    rating comment\n",
       "0       58    a  4.295792        \n",
       "1      285    a  3.088976        \n",
       "2      411    a  4.226588        \n",
       "3      597    a  0.848425        \n",
       "4     1930    a  4.583845        \n",
       "5     2268    a  3.708943        \n",
       "6     2454    a  4.908284        \n",
       "7     2698    a  3.972188        \n",
       "8     5255    a  2.963633        \n",
       "9     8373    a  3.351118        \n",
       "10    9804    a  3.422126        \n",
       "11   10138    a  4.459589        \n",
       "12   10191    a  0.793690        \n",
       "13   10192    a  0.762404        \n",
       "14   10193    a  1.773356        \n",
       "15   10764    a  2.237706        \n",
       "16   15512    a  1.636696        \n",
       "17   17979    a  0.993536        \n",
       "18   27205    a  2.448330        \n",
       "19   36668    a  0.844185        \n",
       "20   38757    a  0.740275        \n",
       "21   47933    a  0.478227        \n",
       "22   58595    a  3.932512        \n",
       "23   62177    a  3.965812        \n",
       "24   64682    a  3.883280        \n",
       "25   72190    a  0.947645        \n",
       "26   76757    a  4.459063        \n",
       "27   79698    a  1.502435        \n",
       "28   82690    a  3.170356        \n",
       "29   91314    a  4.282313        \n",
       "30  102382    a  1.732791        \n",
       "31  127585    a  1.384274        \n",
       "32  135397    a  2.561094        \n",
       "33  137113    a  2.664912        \n",
       "34  188927    a  0.304691        \n",
       "35  206647    a  1.771459        \n",
       "36  209112    a  2.576471        \n",
       "37  246655    a  0.714898        \n",
       "38  258489    a  0.130893        \n",
       "39  271110    a  1.033088        \n",
       "40  278927    a  4.306166        "
      ],
      "text/html": "<div>\n<style scoped>\n    .dataframe tbody tr th:only-of-type {\n        vertical-align: middle;\n    }\n\n    .dataframe tbody tr th {\n        vertical-align: top;\n    }\n\n    .dataframe thead th {\n        text-align: right;\n    }\n</style>\n<table border=\"1\" class=\"dataframe\">\n  <thead>\n    <tr style=\"text-align: right;\">\n      <th></th>\n      <th>id</th>\n      <th>name</th>\n      <th>rating</th>\n      <th>comment</th>\n    </tr>\n  </thead>\n  <tbody>\n    <tr>\n      <th>0</th>\n      <td>58</td>\n      <td>a</td>\n      <td>4.295792</td>\n      <td></td>\n    </tr>\n    <tr>\n      <th>1</th>\n      <td>285</td>\n      <td>a</td>\n      <td>3.088976</td>\n      <td></td>\n    </tr>\n    <tr>\n      <th>2</th>\n      <td>411</td>\n      <td>a</td>\n      <td>4.226588</td>\n      <td></td>\n    </tr>\n    <tr>\n      <th>3</th>\n      <td>597</td>\n      <td>a</td>\n      <td>0.848425</td>\n      <td></td>\n    </tr>\n    <tr>\n      <th>4</th>\n      <td>1930</td>\n      <td>a</td>\n      <td>4.583845</td>\n      <td></td>\n    </tr>\n    <tr>\n      <th>5</th>\n      <td>2268</td>\n      <td>a</td>\n      <td>3.708943</td>\n      <td></td>\n    </tr>\n    <tr>\n      <th>6</th>\n      <td>2454</td>\n      <td>a</td>\n      <td>4.908284</td>\n      <td></td>\n    </tr>\n    <tr>\n      <th>7</th>\n      <td>2698</td>\n      <td>a</td>\n      <td>3.972188</td>\n      <td></td>\n    </tr>\n    <tr>\n      <th>8</th>\n      <td>5255</td>\n      <td>a</td>\n      <td>2.963633</td>\n      <td></td>\n    </tr>\n    <tr>\n      <th>9</th>\n      <td>8373</td>\n      <td>a</td>\n      <td>3.351118</td>\n      <td></td>\n    </tr>\n    <tr>\n      <th>10</th>\n      <td>9804</td>\n      <td>a</td>\n      <td>3.422126</td>\n      <td></td>\n    </tr>\n    <tr>\n      <th>11</th>\n      <td>10138</td>\n      <td>a</td>\n      <td>4.459589</td>\n      <td></td>\n    </tr>\n    <tr>\n      <th>12</th>\n      <td>10191</td>\n      <td>a</td>\n      <td>0.793690</td>\n      <td></td>\n    </tr>\n    <tr>\n      <th>13</th>\n      <td>10192</td>\n      <td>a</td>\n      <td>0.762404</td>\n      <td></td>\n    </tr>\n    <tr>\n      <th>14</th>\n      <td>10193</td>\n      <td>a</td>\n      <td>1.773356</td>\n      <td></td>\n    </tr>\n    <tr>\n      <th>15</th>\n      <td>10764</td>\n      <td>a</td>\n      <td>2.237706</td>\n      <td></td>\n    </tr>\n    <tr>\n      <th>16</th>\n      <td>15512</td>\n      <td>a</td>\n      <td>1.636696</td>\n      <td></td>\n    </tr>\n    <tr>\n      <th>17</th>\n      <td>17979</td>\n      <td>a</td>\n      <td>0.993536</td>\n      <td></td>\n    </tr>\n    <tr>\n      <th>18</th>\n      <td>27205</td>\n      <td>a</td>\n      <td>2.448330</td>\n      <td></td>\n    </tr>\n    <tr>\n      <th>19</th>\n      <td>36668</td>\n      <td>a</td>\n      <td>0.844185</td>\n      <td></td>\n    </tr>\n    <tr>\n      <th>20</th>\n      <td>38757</td>\n      <td>a</td>\n      <td>0.740275</td>\n      <td></td>\n    </tr>\n    <tr>\n      <th>21</th>\n      <td>47933</td>\n      <td>a</td>\n      <td>0.478227</td>\n      <td></td>\n    </tr>\n    <tr>\n      <th>22</th>\n      <td>58595</td>\n      <td>a</td>\n      <td>3.932512</td>\n      <td></td>\n    </tr>\n    <tr>\n      <th>23</th>\n      <td>62177</td>\n      <td>a</td>\n      <td>3.965812</td>\n      <td></td>\n    </tr>\n    <tr>\n      <th>24</th>\n      <td>64682</td>\n      <td>a</td>\n      <td>3.883280</td>\n      <td></td>\n    </tr>\n    <tr>\n      <th>25</th>\n      <td>72190</td>\n      <td>a</td>\n      <td>0.947645</td>\n      <td></td>\n    </tr>\n    <tr>\n      <th>26</th>\n      <td>76757</td>\n      <td>a</td>\n      <td>4.459063</td>\n      <td></td>\n    </tr>\n    <tr>\n      <th>27</th>\n      <td>79698</td>\n      <td>a</td>\n      <td>1.502435</td>\n      <td></td>\n    </tr>\n    <tr>\n      <th>28</th>\n      <td>82690</td>\n      <td>a</td>\n      <td>3.170356</td>\n      <td></td>\n    </tr>\n    <tr>\n      <th>29</th>\n      <td>91314</td>\n      <td>a</td>\n      <td>4.282313</td>\n      <td></td>\n    </tr>\n    <tr>\n      <th>30</th>\n      <td>102382</td>\n      <td>a</td>\n      <td>1.732791</td>\n      <td></td>\n    </tr>\n    <tr>\n      <th>31</th>\n      <td>127585</td>\n      <td>a</td>\n      <td>1.384274</td>\n      <td></td>\n    </tr>\n    <tr>\n      <th>32</th>\n      <td>135397</td>\n      <td>a</td>\n      <td>2.561094</td>\n      <td></td>\n    </tr>\n    <tr>\n      <th>33</th>\n      <td>137113</td>\n      <td>a</td>\n      <td>2.664912</td>\n      <td></td>\n    </tr>\n    <tr>\n      <th>34</th>\n      <td>188927</td>\n      <td>a</td>\n      <td>0.304691</td>\n      <td></td>\n    </tr>\n    <tr>\n      <th>35</th>\n      <td>206647</td>\n      <td>a</td>\n      <td>1.771459</td>\n      <td></td>\n    </tr>\n    <tr>\n      <th>36</th>\n      <td>209112</td>\n      <td>a</td>\n      <td>2.576471</td>\n      <td></td>\n    </tr>\n    <tr>\n      <th>37</th>\n      <td>246655</td>\n      <td>a</td>\n      <td>0.714898</td>\n      <td></td>\n    </tr>\n    <tr>\n      <th>38</th>\n      <td>258489</td>\n      <td>a</td>\n      <td>0.130893</td>\n      <td></td>\n    </tr>\n    <tr>\n      <th>39</th>\n      <td>271110</td>\n      <td>a</td>\n      <td>1.033088</td>\n      <td></td>\n    </tr>\n    <tr>\n      <th>40</th>\n      <td>278927</td>\n      <td>a</td>\n      <td>4.306166</td>\n      <td></td>\n    </tr>\n  </tbody>\n</table>\n</div>"
     },
     "metadata": {},
     "execution_count": 33
    }
   ],
   "source": [
    "find_recommend_name('a')"
   ]
  },
  {
   "cell_type": "code",
   "execution_count": 34,
   "metadata": {},
   "outputs": [],
   "source": [
    "from recommend import *"
   ]
  },
  {
   "cell_type": "code",
   "execution_count": 35,
   "metadata": {},
   "outputs": [
    {
     "output_type": "error",
     "ename": "FileNotFoundError",
     "evalue": "[Errno 2] File ./recommend//recommend_model/movie.csv does not exist: './recommend//recommend_model/movie.csv'",
     "traceback": [
      "\u001b[1;31m---------------------------------------------------------------------------\u001b[0m",
      "\u001b[1;31mFileNotFoundError\u001b[0m                         Traceback (most recent call last)",
      "\u001b[1;32m<ipython-input-35-0b6966072dfe>\u001b[0m in \u001b[0;36m<module>\u001b[1;34m\u001b[0m\n\u001b[1;32m----> 1\u001b[1;33m \u001b[0mget_result\u001b[0m\u001b[1;33m(\u001b[0m\u001b[1;34m'f'\u001b[0m\u001b[1;33m)\u001b[0m\u001b[1;33m\u001b[0m\u001b[1;33m\u001b[0m\u001b[0m\n\u001b[0m",
      "\u001b[1;32mc:\\Users\\sft\\Desktop\\git\\Recommender-System\\recommend\\recommend.py\u001b[0m in \u001b[0;36mget_result\u001b[1;34m(user_id)\u001b[0m\n\u001b[0;32m    450\u001b[0m     \u001b[0mcollaborative_filtering\u001b[0m\u001b[1;33m(\u001b[0m\u001b[0mratings\u001b[0m\u001b[1;33m)\u001b[0m\u001b[1;31m#重新获得model\u001b[0m\u001b[1;33m\u001b[0m\u001b[1;33m\u001b[0m\u001b[0m\n\u001b[0;32m    451\u001b[0m     \u001b[0mcreate_svd_matrix\u001b[0m\u001b[1;33m(\u001b[0m\u001b[0mnumber_user\u001b[0m\u001b[1;33m=\u001b[0m\u001b[1;36m99\u001b[0m \u001b[1;33m,\u001b[0m\u001b[0mnumber_movie\u001b[0m\u001b[1;33m=\u001b[0m\u001b[0mmovie_df\u001b[0m\u001b[1;33m.\u001b[0m\u001b[0mshape\u001b[0m\u001b[1;33m[\u001b[0m\u001b[1;36m0\u001b[0m\u001b[1;33m]\u001b[0m\u001b[1;33m,\u001b[0m \u001b[0mmovie_df\u001b[0m\u001b[1;33m=\u001b[0m\u001b[0mmovie_df\u001b[0m\u001b[1;33m,\u001b[0m \u001b[0mratings\u001b[0m\u001b[1;33m=\u001b[0m\u001b[0mratings\u001b[0m\u001b[1;33m,\u001b[0m\u001b[0mk\u001b[0m\u001b[1;33m=\u001b[0m\u001b[1;36m3\u001b[0m\u001b[1;33m)\u001b[0m\u001b[1;33m\u001b[0m\u001b[1;33m\u001b[0m\u001b[0m\n\u001b[1;32m--> 452\u001b[1;33m \u001b[1;33m\u001b[0m\u001b[0m\n\u001b[0m\u001b[0;32m    453\u001b[0m \u001b[1;32mdef\u001b[0m \u001b[0mget_result\u001b[0m\u001b[1;33m(\u001b[0m\u001b[0muser_id\u001b[0m\u001b[1;33m)\u001b[0m\u001b[1;33m:\u001b[0m\u001b[1;33m\u001b[0m\u001b[1;33m\u001b[0m\u001b[0m\n\u001b[0;32m    454\u001b[0m     \u001b[1;32mif\u001b[0m \u001b[1;36m1\u001b[0m\u001b[1;33m:\u001b[0m   \u001b[1;31m#用户处于稳定阶段\u001b[0m\u001b[1;33m\u001b[0m\u001b[1;33m\u001b[0m\u001b[0m\n",
      "\u001b[1;32mc:\\Users\\sft\\Desktop\\git\\Recommender-System\\recommend\\recommend.py\u001b[0m in \u001b[0;36mget_recommendation\u001b[1;34m(userid, title_list)\u001b[0m\n\u001b[0;32m    215\u001b[0m     \u001b[0msurprise\u001b[0m\u001b[1;33m.\u001b[0m\u001b[0mdump\u001b[0m\u001b[1;33m.\u001b[0m\u001b[0mdump\u001b[0m\u001b[1;33m(\u001b[0m\u001b[0mbasepath\u001b[0m \u001b[1;33m+\u001b[0m \u001b[1;34m\"recommend_model/SVD_model\"\u001b[0m\u001b[1;33m,\u001b[0m\u001b[0malgo\u001b[0m\u001b[1;33m=\u001b[0m\u001b[0msvd\u001b[0m\u001b[1;33m)\u001b[0m\u001b[1;33m\u001b[0m\u001b[1;33m\u001b[0m\u001b[0m\n\u001b[0;32m    216\u001b[0m \u001b[1;33m\u001b[0m\u001b[0m\n\u001b[1;32m--> 217\u001b[1;33m \u001b[1;33m\u001b[0m\u001b[0m\n\u001b[0m\u001b[0;32m    218\u001b[0m \u001b[1;31m#下面的推荐模型用于对已经”稳定“在推荐系统中的用户和电影进行推荐，对于特定的用户，他会按照一定的权重考虑每个电影在\u001b[0m\u001b[1;33m\u001b[0m\u001b[1;33m\u001b[0m\u001b[1;33m\u001b[0m\u001b[0m\n\u001b[0;32m    219\u001b[0m \u001b[1;31m#上面三种推荐策略中的评分，最终根据总评顺序获得最终的推荐。\u001b[0m\u001b[1;33m\u001b[0m\u001b[1;33m\u001b[0m\u001b[1;33m\u001b[0m\u001b[0m\n",
      "\u001b[1;32m~\\Anaconda3\\lib\\site-packages\\pandas\\io\\parsers.py\u001b[0m in \u001b[0;36mparser_f\u001b[1;34m(filepath_or_buffer, sep, delimiter, header, names, index_col, usecols, squeeze, prefix, mangle_dupe_cols, dtype, engine, converters, true_values, false_values, skipinitialspace, skiprows, skipfooter, nrows, na_values, keep_default_na, na_filter, verbose, skip_blank_lines, parse_dates, infer_datetime_format, keep_date_col, date_parser, dayfirst, cache_dates, iterator, chunksize, compression, thousands, decimal, lineterminator, quotechar, quoting, doublequote, escapechar, comment, encoding, dialect, error_bad_lines, warn_bad_lines, delim_whitespace, low_memory, memory_map, float_precision)\u001b[0m\n\u001b[0;32m    674\u001b[0m         )\n\u001b[0;32m    675\u001b[0m \u001b[1;33m\u001b[0m\u001b[0m\n\u001b[1;32m--> 676\u001b[1;33m         \u001b[1;32mreturn\u001b[0m \u001b[0m_read\u001b[0m\u001b[1;33m(\u001b[0m\u001b[0mfilepath_or_buffer\u001b[0m\u001b[1;33m,\u001b[0m \u001b[0mkwds\u001b[0m\u001b[1;33m)\u001b[0m\u001b[1;33m\u001b[0m\u001b[1;33m\u001b[0m\u001b[0m\n\u001b[0m\u001b[0;32m    677\u001b[0m \u001b[1;33m\u001b[0m\u001b[0m\n\u001b[0;32m    678\u001b[0m     \u001b[0mparser_f\u001b[0m\u001b[1;33m.\u001b[0m\u001b[0m__name__\u001b[0m \u001b[1;33m=\u001b[0m \u001b[0mname\u001b[0m\u001b[1;33m\u001b[0m\u001b[1;33m\u001b[0m\u001b[0m\n",
      "\u001b[1;32m~\\Anaconda3\\lib\\site-packages\\pandas\\io\\parsers.py\u001b[0m in \u001b[0;36m_read\u001b[1;34m(filepath_or_buffer, kwds)\u001b[0m\n\u001b[0;32m    446\u001b[0m \u001b[1;33m\u001b[0m\u001b[0m\n\u001b[0;32m    447\u001b[0m     \u001b[1;31m# Create the parser.\u001b[0m\u001b[1;33m\u001b[0m\u001b[1;33m\u001b[0m\u001b[1;33m\u001b[0m\u001b[0m\n\u001b[1;32m--> 448\u001b[1;33m     \u001b[0mparser\u001b[0m \u001b[1;33m=\u001b[0m \u001b[0mTextFileReader\u001b[0m\u001b[1;33m(\u001b[0m\u001b[0mfp_or_buf\u001b[0m\u001b[1;33m,\u001b[0m \u001b[1;33m**\u001b[0m\u001b[0mkwds\u001b[0m\u001b[1;33m)\u001b[0m\u001b[1;33m\u001b[0m\u001b[1;33m\u001b[0m\u001b[0m\n\u001b[0m\u001b[0;32m    449\u001b[0m \u001b[1;33m\u001b[0m\u001b[0m\n\u001b[0;32m    450\u001b[0m     \u001b[1;32mif\u001b[0m \u001b[0mchunksize\u001b[0m \u001b[1;32mor\u001b[0m \u001b[0miterator\u001b[0m\u001b[1;33m:\u001b[0m\u001b[1;33m\u001b[0m\u001b[1;33m\u001b[0m\u001b[0m\n",
      "\u001b[1;32m~\\Anaconda3\\lib\\site-packages\\pandas\\io\\parsers.py\u001b[0m in \u001b[0;36m__init__\u001b[1;34m(self, f, engine, **kwds)\u001b[0m\n\u001b[0;32m    878\u001b[0m             \u001b[0mself\u001b[0m\u001b[1;33m.\u001b[0m\u001b[0moptions\u001b[0m\u001b[1;33m[\u001b[0m\u001b[1;34m\"has_index_names\"\u001b[0m\u001b[1;33m]\u001b[0m \u001b[1;33m=\u001b[0m \u001b[0mkwds\u001b[0m\u001b[1;33m[\u001b[0m\u001b[1;34m\"has_index_names\"\u001b[0m\u001b[1;33m]\u001b[0m\u001b[1;33m\u001b[0m\u001b[1;33m\u001b[0m\u001b[0m\n\u001b[0;32m    879\u001b[0m \u001b[1;33m\u001b[0m\u001b[0m\n\u001b[1;32m--> 880\u001b[1;33m         \u001b[0mself\u001b[0m\u001b[1;33m.\u001b[0m\u001b[0m_make_engine\u001b[0m\u001b[1;33m(\u001b[0m\u001b[0mself\u001b[0m\u001b[1;33m.\u001b[0m\u001b[0mengine\u001b[0m\u001b[1;33m)\u001b[0m\u001b[1;33m\u001b[0m\u001b[1;33m\u001b[0m\u001b[0m\n\u001b[0m\u001b[0;32m    881\u001b[0m \u001b[1;33m\u001b[0m\u001b[0m\n\u001b[0;32m    882\u001b[0m     \u001b[1;32mdef\u001b[0m \u001b[0mclose\u001b[0m\u001b[1;33m(\u001b[0m\u001b[0mself\u001b[0m\u001b[1;33m)\u001b[0m\u001b[1;33m:\u001b[0m\u001b[1;33m\u001b[0m\u001b[1;33m\u001b[0m\u001b[0m\n",
      "\u001b[1;32m~\\Anaconda3\\lib\\site-packages\\pandas\\io\\parsers.py\u001b[0m in \u001b[0;36m_make_engine\u001b[1;34m(self, engine)\u001b[0m\n\u001b[0;32m   1112\u001b[0m     \u001b[1;32mdef\u001b[0m \u001b[0m_make_engine\u001b[0m\u001b[1;33m(\u001b[0m\u001b[0mself\u001b[0m\u001b[1;33m,\u001b[0m \u001b[0mengine\u001b[0m\u001b[1;33m=\u001b[0m\u001b[1;34m\"c\"\u001b[0m\u001b[1;33m)\u001b[0m\u001b[1;33m:\u001b[0m\u001b[1;33m\u001b[0m\u001b[1;33m\u001b[0m\u001b[0m\n\u001b[0;32m   1113\u001b[0m         \u001b[1;32mif\u001b[0m \u001b[0mengine\u001b[0m \u001b[1;33m==\u001b[0m \u001b[1;34m\"c\"\u001b[0m\u001b[1;33m:\u001b[0m\u001b[1;33m\u001b[0m\u001b[1;33m\u001b[0m\u001b[0m\n\u001b[1;32m-> 1114\u001b[1;33m             \u001b[0mself\u001b[0m\u001b[1;33m.\u001b[0m\u001b[0m_engine\u001b[0m \u001b[1;33m=\u001b[0m \u001b[0mCParserWrapper\u001b[0m\u001b[1;33m(\u001b[0m\u001b[0mself\u001b[0m\u001b[1;33m.\u001b[0m\u001b[0mf\u001b[0m\u001b[1;33m,\u001b[0m \u001b[1;33m**\u001b[0m\u001b[0mself\u001b[0m\u001b[1;33m.\u001b[0m\u001b[0moptions\u001b[0m\u001b[1;33m)\u001b[0m\u001b[1;33m\u001b[0m\u001b[1;33m\u001b[0m\u001b[0m\n\u001b[0m\u001b[0;32m   1115\u001b[0m         \u001b[1;32melse\u001b[0m\u001b[1;33m:\u001b[0m\u001b[1;33m\u001b[0m\u001b[1;33m\u001b[0m\u001b[0m\n\u001b[0;32m   1116\u001b[0m             \u001b[1;32mif\u001b[0m \u001b[0mengine\u001b[0m \u001b[1;33m==\u001b[0m \u001b[1;34m\"python\"\u001b[0m\u001b[1;33m:\u001b[0m\u001b[1;33m\u001b[0m\u001b[1;33m\u001b[0m\u001b[0m\n",
      "\u001b[1;32m~\\Anaconda3\\lib\\site-packages\\pandas\\io\\parsers.py\u001b[0m in \u001b[0;36m__init__\u001b[1;34m(self, src, **kwds)\u001b[0m\n\u001b[0;32m   1889\u001b[0m         \u001b[0mkwds\u001b[0m\u001b[1;33m[\u001b[0m\u001b[1;34m\"usecols\"\u001b[0m\u001b[1;33m]\u001b[0m \u001b[1;33m=\u001b[0m \u001b[0mself\u001b[0m\u001b[1;33m.\u001b[0m\u001b[0musecols\u001b[0m\u001b[1;33m\u001b[0m\u001b[1;33m\u001b[0m\u001b[0m\n\u001b[0;32m   1890\u001b[0m \u001b[1;33m\u001b[0m\u001b[0m\n\u001b[1;32m-> 1891\u001b[1;33m         \u001b[0mself\u001b[0m\u001b[1;33m.\u001b[0m\u001b[0m_reader\u001b[0m \u001b[1;33m=\u001b[0m \u001b[0mparsers\u001b[0m\u001b[1;33m.\u001b[0m\u001b[0mTextReader\u001b[0m\u001b[1;33m(\u001b[0m\u001b[0msrc\u001b[0m\u001b[1;33m,\u001b[0m \u001b[1;33m**\u001b[0m\u001b[0mkwds\u001b[0m\u001b[1;33m)\u001b[0m\u001b[1;33m\u001b[0m\u001b[1;33m\u001b[0m\u001b[0m\n\u001b[0m\u001b[0;32m   1892\u001b[0m         \u001b[0mself\u001b[0m\u001b[1;33m.\u001b[0m\u001b[0munnamed_cols\u001b[0m \u001b[1;33m=\u001b[0m \u001b[0mself\u001b[0m\u001b[1;33m.\u001b[0m\u001b[0m_reader\u001b[0m\u001b[1;33m.\u001b[0m\u001b[0munnamed_cols\u001b[0m\u001b[1;33m\u001b[0m\u001b[1;33m\u001b[0m\u001b[0m\n\u001b[0;32m   1893\u001b[0m \u001b[1;33m\u001b[0m\u001b[0m\n",
      "\u001b[1;32mpandas\\_libs\\parsers.pyx\u001b[0m in \u001b[0;36mpandas._libs.parsers.TextReader.__cinit__\u001b[1;34m()\u001b[0m\n",
      "\u001b[1;32mpandas\\_libs\\parsers.pyx\u001b[0m in \u001b[0;36mpandas._libs.parsers.TextReader._setup_parser_source\u001b[1;34m()\u001b[0m\n",
      "\u001b[1;31mFileNotFoundError\u001b[0m: [Errno 2] File ./recommend//recommend_model/movie.csv does not exist: './recommend//recommend_model/movie.csv'"
     ]
    }
   ],
   "source": [
    "get_result('f')"
   ]
  },
  {
   "cell_type": "code",
   "execution_count": 21,
   "metadata": {},
   "outputs": [],
   "source": [
    "add_rec_list('a',[1452])"
   ]
  },
  {
   "cell_type": "code",
   "execution_count": 22,
   "metadata": {},
   "outputs": [
    {
     "output_type": "execute_result",
     "data": {
      "text/plain": [
       "[254, 597, 2268, 102382, 1726, 1452]"
      ]
     },
     "metadata": {},
     "execution_count": 22
    }
   ],
   "source": [
    "get_rec_list('a')"
   ]
  },
  {
   "cell_type": "code",
   "execution_count": 23,
   "metadata": {},
   "outputs": [
    {
     "output_type": "error",
     "ename": "NameError",
     "evalue": "name 'get_browse_list' is not defined",
     "traceback": [
      "\u001b[1;31m---------------------------------------------------------------------------\u001b[0m",
      "\u001b[1;31mNameError\u001b[0m                                 Traceback (most recent call last)",
      "\u001b[1;32m<ipython-input-23-a2538050f963>\u001b[0m in \u001b[0;36m<module>\u001b[1;34m\u001b[0m\n\u001b[1;32m----> 1\u001b[1;33m \u001b[0mget_browse_list\u001b[0m\u001b[1;33m(\u001b[0m\u001b[1;34m'a'\u001b[0m\u001b[1;33m)\u001b[0m\u001b[1;33m\u001b[0m\u001b[1;33m\u001b[0m\u001b[0m\n\u001b[0m",
      "\u001b[1;31mNameError\u001b[0m: name 'get_browse_list' is not defined"
     ]
    }
   ],
   "source": [
    "get_browse_list('a')"
   ]
  },
  {
   "cell_type": "code",
   "execution_count": null,
   "metadata": {},
   "outputs": [],
   "source": [
    "add_browse_record('sadf',[254,597,2268,8487])"
   ]
  }
 ]
}