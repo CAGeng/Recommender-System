{
 "metadata": {
  "language_info": {
   "codemirror_mode": {
    "name": "ipython",
    "version": 3
   },
   "file_extension": ".py",
   "mimetype": "text/x-python",
   "name": "python",
   "nbconvert_exporter": "python",
   "pygments_lexer": "ipython3",
   "version": "3.8.3-final"
  },
  "orig_nbformat": 2,
  "kernelspec": {
   "name": "python3",
   "display_name": "Python 3.8.3 64-bit (conda)",
   "metadata": {
    "interpreter": {
     "hash": "e3359071a95bf4a6bcef1839f0fbd873ff7c132cbd9bd9ac6cf4383c87abe232"
    }
   }
  }
 },
 "nbformat": 4,
 "nbformat_minor": 2,
 "cells": [
  {
   "cell_type": "code",
   "execution_count": null,
   "metadata": {},
   "outputs": [],
   "source": [
    "#没有用的试验程序"
   ]
  },
  {
   "cell_type": "code",
   "execution_count": 1,
   "metadata": {},
   "outputs": [],
   "source": [
    "\n",
    "import pandas as pd"
   ]
  },
  {
   "cell_type": "code",
   "execution_count": 3,
   "metadata": {},
   "outputs": [
    {
     "output_type": "stream",
     "name": "stdout",
     "text": [
      "(100004, 4)\n"
     ]
    }
   ],
   "source": [
    "from surprise import Reader, Dataset, SVD, model_selection\n",
    "from surprise.model_selection import cross_validate\n",
    "reader = Reader()\n",
    "ratings = pd.read_csv('./input/ratings_small.csv')\n",
    "ratings.head()\n",
    "print(ratings.shape)"
   ]
  },
  {
   "cell_type": "code",
   "execution_count": 4,
   "metadata": {},
   "outputs": [
    {
     "output_type": "stream",
     "name": "stdout",
     "text": [
      "Evaluating RMSE, MAE of algorithm NormalPredictor on 3 split(s).\n\n                  Fold 1  Fold 2  Fold 3  Mean    Std     \nRMSE (testset)    1.4434  1.4392  1.4324  1.4383  0.0046  \nMAE (testset)     1.1530  1.1490  1.1426  1.1482  0.0043  \nFit time          0.10    0.12    0.13    0.12    0.01    \nTest time         0.22    0.28    0.27    0.25    0.03    \n"
     ]
    },
    {
     "output_type": "execute_result",
     "data": {
      "text/plain": [
       "{'test_rmse': array([1.44342443, 1.43921187, 1.43237981]),\n",
       " 'test_mae': array([1.15297229, 1.1489559 , 1.14257646]),\n",
       " 'fit_time': (0.1047210693359375, 0.12466716766357422, 0.13218331336975098),\n",
       " 'test_time': (0.21793413162231445, 0.27526330947875977, 0.2712748050689697)}"
      ]
     },
     "metadata": {},
     "execution_count": 4
    }
   ],
   "source": [
    "from surprise import Dataset\n",
    "from surprise.model_selection import cross_validate\n",
    "data = Dataset.load_from_df(ratings[['userId', 'movieId', 'rating']], reader)\n",
    "### 使用NormalPredictor\n",
    "from surprise import NormalPredictor\n",
    "algo = NormalPredictor()\n",
    "cross_validate(algo, data, measures=['RMSE', 'MAE'], cv=3,verbose=True)\n",
    "\n"
   ]
  },
  {
   "cell_type": "code",
   "execution_count": null,
   "metadata": {},
   "outputs": [],
   "source": [
    "### 使用BaselineOnly\n",
    "from surprise import BaselineOnly\n",
    "algo = BaselineOnly()\n",
    "perf = cross_validate(algo, data, measures=['RMSE', 'MAE'], cv=3,verbose=True)\n",
    "print(perf)\n",
    "\n",
    "### 使用基础版协同过滤\n",
    "from surprise import KNNBasic, evaluate\n",
    "algo = KNNBasic()\n",
    "perf = cross_validate(algo, data, measures=['RMSE', 'MAE'], cv=3,verbose=True)\n",
    "print(perf)\n",
    "\n",
    "### 使用均值协同过滤\n",
    "from surprise import KNNWithMeans, evaluate\n",
    "algo = KNNWithMeans()\n",
    "perf = cross_validate(algo, data, measures=['RMSE', 'MAE'], cv=3,verbose=True)\n",
    "print(perf)\n",
    "\n",
    "\n",
    "\n",
    "\n",
    "\n",
    "\n"
   ]
  },
  {
   "cell_type": "code",
   "execution_count": 6,
   "metadata": {},
   "outputs": [
    {
     "output_type": "stream",
     "name": "stdout",
     "text": [
      "Evaluating RMSE, MAE of algorithm SVD on 5 split(s).\n\n                  Fold 1  Fold 2  Fold 3  Fold 4  Fold 5  Mean    Std     \nRMSE (testset)    0.8962  0.8964  0.9019  0.8968  0.8930  0.8969  0.0029  \nMAE (testset)     0.6915  0.6905  0.6907  0.6901  0.6867  0.6899  0.0017  \nFit time          5.13    4.84    4.34    4.65    4.44    4.68    0.28    \nTest time         0.20    0.11    0.19    0.12    0.14    0.15    0.04    \n{'test_rmse': array([0.89619023, 0.89642391, 0.90189951, 0.89684876, 0.89302272]), 'test_mae': array([0.69149473, 0.69045728, 0.69072495, 0.69011026, 0.68666053]), 'fit_time': (5.132577180862427, 4.839062213897705, 4.338670969009399, 4.653003215789795, 4.441943168640137), 'test_time': (0.20226192474365234, 0.11219239234924316, 0.18816447257995605, 0.12218117713928223, 0.13594436645507812)}\n"
     ]
    }
   ],
   "source": [
    "### 使用SVD\n",
    "from surprise import SVD\n",
    "algo = SVD()\n",
    "perf = cross_validate(algo, data, measures=['RMSE', 'MAE'],verbose=True)\n",
    "print(perf)"
   ]
  },
  {
   "cell_type": "code",
   "execution_count": null,
   "metadata": {},
   "outputs": [],
   "source": [
    "### 使用NMF\n",
    "from surprise import NMF\n",
    "algo = NMF()\n",
    "perf = cross_validate(algo, data, measures=['RMSE', 'MAE'], cv=3,verbose=True)\n",
    "print(perf)"
   ]
  },
  {
   "cell_type": "code",
   "execution_count": 7,
   "metadata": {},
   "outputs": [
    {
     "output_type": "stream",
     "name": "stdout",
     "text": [
      "Evaluating RMSE, MAE of algorithm SVDpp on 3 split(s).\n\n                  Fold 1  Fold 2  Fold 3  Mean    Std     \nRMSE (testset)    0.8941  0.8920  0.8947  0.8936  0.0012  \nMAE (testset)     0.6851  0.6851  0.6874  0.6859  0.0011  \nFit time          271.52  267.63  267.97  269.04  1.76    \nTest time         8.65    8.94    8.83    8.81    0.12    \n{'test_rmse': array([0.894108  , 0.89199756, 0.89471666]), 'test_mae': array([0.68511984, 0.68514224, 0.68743856]), 'fit_time': (271.51936769485474, 267.6266899108887, 267.9744927883148), 'test_time': (8.647342920303345, 8.942814350128174, 8.827895164489746)}\n"
     ]
    }
   ],
   "source": [
    "### 使用SVD++\n",
    "from surprise import SVDpp\n",
    "algo = SVDpp()\n",
    "perf = cross_validate(algo, data, measures=['RMSE', 'MAE'], cv=3,verbose=True)\n",
    "print(perf)"
   ]
  },
  {
   "cell_type": "code",
   "execution_count": 5,
   "metadata": {},
   "outputs": [],
   "source": [
    "import surprise\n"
   ]
  },
  {
   "cell_type": "code",
   "execution_count": 12,
   "metadata": {},
   "outputs": [
    {
     "output_type": "execute_result",
     "data": {
      "text/plain": [
       "numpy.float64"
      ]
     },
     "metadata": {},
     "execution_count": 12
    }
   ],
   "source": [
    "(_,algo) = surprise.dump.load(\"./recommend_model/SVD_model\")\n",
    "type((algo.predict(1,1129)).est)"
   ]
  },
  {
   "cell_type": "code",
   "execution_count": null,
   "metadata": {},
   "outputs": [],
   "source": [
    "### 使用协同过滤baseline\n",
    "from surprise import KNNBaseline, evaluate\n",
    "algo = KNNBaseline()\n",
    "perf = cross_validate(algo, data, measures=['RMSE', 'MAE'], cv=3,verbose=True)\n",
    "print(perf)"
   ]
  },
  {
   "cell_type": "code",
   "execution_count": null,
   "metadata": {},
   "outputs": [],
   "source": []
  }
 ]
}