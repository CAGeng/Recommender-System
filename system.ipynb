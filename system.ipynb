{
 "metadata": {
  "language_info": {
   "codemirror_mode": {
    "name": "ipython",
    "version": 3
   },
   "file_extension": ".py",
   "mimetype": "text/x-python",
   "name": "python",
   "nbconvert_exporter": "python",
   "pygments_lexer": "ipython3",
   "version": "3.8.3-final"
  },
  "orig_nbformat": 2,
  "kernelspec": {
   "name": "python3",
   "display_name": "Python 3.8.3 64-bit (conda)",
   "metadata": {
    "interpreter": {
     "hash": "e3359071a95bf4a6bcef1839f0fbd873ff7c132cbd9bd9ac6cf4383c87abe232"
    }
   }
  }
 },
 "nbformat": 4,
 "nbformat_minor": 2,
 "cells": [
  {
   "cell_type": "code",
   "execution_count": 1,
   "metadata": {},
   "outputs": [],
   "source": [
    "from pymysql import *"
   ]
  },
  {
   "cell_type": "code",
   "execution_count": 2,
   "metadata": {},
   "outputs": [],
   "source": [
    "#重置数据库\n",
    "def clear_database():\n",
    "    conn = connect(host='localhost', port=3306,database='movie_rec_system',user='root',password='sft080090',charset='utf8')\n",
    "    cs1 = conn.cursor()\n",
    "    cs1.execute('drop table movie;')\n",
    "    conn.commit()\n",
    "    cs1.close()\n",
    "    conn.close()"
   ]
  },
  {
   "cell_type": "code",
   "execution_count": 3,
   "metadata": {},
   "outputs": [],
   "source": [
    "#创建movie table\n",
    "def create_movie_table():\n",
    "    conn = connect(host='localhost', port=3306,database='movie_rec_system',user='root',password='sft080090',charset='utf8')\n",
    "    cs1 = conn.cursor()\n",
    "    # cs1.execute('drop table movie;')\n",
    "    cs1.execute('create table movie(\\\n",
    "                    id int not null,\\\n",
    "                    title varchar(40),\\\n",
    "                    cast varchar(100),\\\n",
    "                    crew varchar(100) ,\\\n",
    "                    keywords varchar(100),\\\n",
    "                    genres varchar(100),\\\n",
    "                    vote_count int default 0,\\\n",
    "                    vote_average double default 5.0,\\\n",
    "                    primary key(id));')\n",
    "    conn.commit()\n",
    "    cs1.close()\n",
    "    conn.close()"
   ]
  },
  {
   "cell_type": "code",
   "execution_count": 4,
   "metadata": {},
   "outputs": [],
   "source": [
    "#创建rating table\n",
    "def create_init_ratings():\n",
    "    conn = connect(host='localhost', port=3306,database='movie_rec_system',user='root',password='sft080090',charset='utf8')\n",
    "    cs1 = conn.cursor()\n",
    "    # cs1.execute('drop table movie;')\n",
    "    cs1.execute('create table rating(\\\n",
    "                    userId int not null,\\\n",
    "                    movieId int not null,\\\n",
    "                    rating double default 5.0,\\\n",
    "                    primary key(userId,movieId));')\n",
    "    conn.commit()\n",
    "    cs1.close()\n",
    "    conn.close()"
   ]
  },
  {
   "cell_type": "code",
   "execution_count": 5,
   "metadata": {},
   "outputs": [],
   "source": [
    "def init_database():\n",
    "    clear_database()\n",
    "    create_movie_table()\n",
    "    create_init_ratings()\n",
    "init_database()"
   ]
  },
  {
   "cell_type": "code",
   "execution_count": 6,
   "metadata": {},
   "outputs": [],
   "source": [
    "#添加电影进入movie table\n",
    "def add_movie(id,title,cast,crew,vote_count,vote_average,keywords=None,genres=None):\n",
    "    if keywords is None:\n",
    "        keywords = ''\n",
    "    if genres is None:\n",
    "        genres = ''\n",
    "    conn = connect(host='localhost', port=3306,database='movie_rec_system',user='root',password='sft080090',charset='utf8')\n",
    "    cs1 = conn.cursor()\n",
    "    if isinstance(id,list):\n",
    "        print(\"waiting to finish\")\n",
    "    else:\n",
    "        cs1.execute('insert into movie (id,title,cast,crew,keywords,genres,vote_count,vote_average) values ({},\"{}\",\"{}\",\"{}\",\"{}\",\"{}\",{},{})'.format(id,title,cast,crew,keywords,genres,vote_count,vote_average))\n",
    "\n",
    "    conn.commit()\n",
    "    cs1.close()\n",
    "    conn.close()"
   ]
  },
  {
   "cell_type": "code",
   "execution_count": 2,
   "metadata": {},
   "outputs": [],
   "source": [
    "#添加评分进入rating table\n",
    "def add_rating(uid, mid, rating):\n",
    "    conn = connect(host='localhost', port=3306,database='movie_rec_system',user='root',password='sft080090',charset='utf8')\n",
    "    cs1 = conn.cursor()\n",
    "    if isinstance(id,list):\n",
    "        print(\"waiting to finish\")\n",
    "    else:\n",
    "        cs1.execute('insert into rating (userId,movieId,rating) values ({},{},{})'.format(uid, mid, rating))\n",
    "\n",
    "    conn.commit()\n",
    "    cs1.close()\n",
    "    conn.close()"
   ]
  },
  {
   "cell_type": "code",
   "execution_count": 8,
   "metadata": {},
   "outputs": [],
   "source": [
    "add_movie(1,\"Hi!Li Huanying\",\"Jia Ling,Shen Teng,Zhang Xiaofei\", \"Director:Jia Ling\",888501, 8.1)\n",
    "add_movie(2,\"Kill Novel Writer\",\"Lei Jiayin,Yang Mi,Dong Zijian\",\"Director:Lu Yang\",348011,7.0)\n",
    "add_movie(3,\"XiHongShi Shoufu\",\"Shen Teng\",\"Director:Yan Fei\",862512,6.6)"
   ]
  },
  {
   "cell_type": "code",
   "execution_count": 9,
   "metadata": {},
   "outputs": [],
   "source": [
    "add_rating(1,1,5)\n",
    "add_rating(1,2,4)\n",
    "add_rating(2,2,4)\n",
    "add_rating(2,3,1)\n",
    "add_rating(3,3,1)\n",
    "add_rating(3,2,4)"
   ]
  },
  {
   "cell_type": "code",
   "execution_count": 3,
   "metadata": {},
   "outputs": [],
   "source": [
    "add_rating(4,1,5)\n",
    "add_rating(4,2,4)"
   ]
  },
  {
   "cell_type": "code",
   "execution_count": 2,
   "metadata": {},
   "outputs": [
    {
     "output_type": "stream",
     "name": "stdout",
     "text": [
      "0\n----\n1.0000000000000002\n8.090354304929358\n3.3064580811952387\n17.35163523365992\n1\n----\n0.0\n7.006517490617142\n3.8178112721252777\n7.321070017433849\n2\n----\n0.2886751345948129\n6.607258734932394\n3.6670676129538426\n9.857448326368168\n   id              title\n2   3   XiHongShi Shoufu\n1   2  Kill Novel Writer\n"
     ]
    }
   ],
   "source": [
    "from recommend import *\n",
    "movie_df = load_movies()\n",
    "print(get_recommendation(movie_df,1,['Hi!Li Huanying']))"
   ]
  },
  {
   "cell_type": "code",
   "execution_count": 4,
   "metadata": {},
   "outputs": [
    {
     "output_type": "stream",
     "name": "stdout",
     "text": [
      "   userId  movieId  rating\n0       1        1     5.0\n1       1        2     4.0\n"
     ]
    }
   ],
   "source": []
  },
  {
   "cell_type": "code",
   "execution_count": null,
   "metadata": {},
   "outputs": [],
   "source": []
  }
 ]
}